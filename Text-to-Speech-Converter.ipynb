{
 "cells": [
  {
   "cell_type": "code",
   "execution_count": 1,
   "id": "b49eb187",
   "metadata": {},
   "outputs": [],
   "source": [
    "# import tkinter as tk\n",
    "import PIL.Image\n",
    "import PIL.ImageTk\n",
    "from tkinter import *\n",
    "from tkinter import filedialog\n",
    "from tkinter.ttk import Combobox\n",
    "import pyttsx3 # python text to speech\n",
    "import os\n",
    "from gtts import gTTS # google text to speech\n",
    "from playsound import playsound "
   ]
  },
  {
   "cell_type": "code",
   "execution_count": 2,
   "id": "f26994b1",
   "metadata": {},
   "outputs": [],
   "source": [
    "root = Tk()\n",
    "root.title(\"Text to Speech converter\")\n",
    "root.geometry(\"1000x580+200+80\")\n",
    "root.resizable(False,False)\n",
    "root.configure(bg=\"#F7AC40\")"
   ]
  },
  {
   "cell_type": "code",
   "execution_count": 3,
   "id": "e1eca11b",
   "metadata": {},
   "outputs": [],
   "source": [
    "tts = pyttsx3.init()\n",
    "def speaknow():\n",
    "    text =text_box.get(1.0,END)\n",
    "    gender=gender_box.get()\n",
    "    speed=speed_box.get()\n",
    "    voices=tts.getProperty('voices')\n",
    "    \n",
    "    def setvoice():\n",
    "        if(gender=='Male'):\n",
    "            tts.setProperty('voice', voices[0].id)\n",
    "        else:\n",
    "            tts.setProperty('voice', voices[1].id)\n",
    "        tts.say(text)\n",
    "        tts.runAndWait()\n",
    "    \n",
    "    if(text):\n",
    "        if(speed=='Fast'):\n",
    "            tts.setProperty('rate',250)\n",
    "        elif(speed=='Normal'):\n",
    "            tts.setProperty('rate',150)\n",
    "        else:\n",
    "            tts.setProperty('rate',60)\n",
    "        setvoice()"
   ]
  },
  {
   "cell_type": "code",
   "execution_count": 4,
   "id": "3731aac1",
   "metadata": {},
   "outputs": [],
   "source": [
    "logo_image = PhotoImage(file=\"C:/Users/KIIT/Downloads/tts.png\") #Adding browser icon\n",
    "root.iconphoto(False,logo_image)"
   ]
  },
  {
   "cell_type": "code",
   "execution_count": 5,
   "id": "5b56a2b0",
   "metadata": {},
   "outputs": [],
   "source": [
    "upper_frame=Frame(root, bg=\"#14A7DD\",width=1200,height=130)\n",
    "upper_frame.place(x=0,y=0)\n",
    "image=PIL.Image.open(r\"C:/Users/KIIT/Downloads/Label.png\")\n",
    "img=image.resize((100, 80))\n",
    "picture=PIL.ImageTk.PhotoImage(img)\n",
    "Label(upper_frame,image=picture,bg=\"#14A7DD\").place(x=150,y=20)"
   ]
  },
  {
   "cell_type": "code",
   "execution_count": 6,
   "id": "c06ce55e",
   "metadata": {},
   "outputs": [],
   "source": [
    "Label(upper_frame, text=\"Text to Speech Converter\", font=\"TimesNewroman 40 bold\", bg=\"#14A7DD\", fg=\"white\").place(x=250, y=35)"
   ]
  },
  {
   "cell_type": "code",
   "execution_count": 7,
   "id": "3e8ca7ba",
   "metadata": {},
   "outputs": [],
   "source": [
    "text_box=Text(root, font=\"calibri 20\", bg=\"white\", wrap=WORD)\n",
    "text_box.place(x=30,y=150,width=940,height=180)"
   ]
  },
  {
   "cell_type": "code",
   "execution_count": 8,
   "id": "a6450efb",
   "metadata": {},
   "outputs": [],
   "source": [
    "gender_box = Combobox(root,values=['Male','Female'], font = \"Robote 12\", state = \"readonly\", width=12)\n",
    "gender_box.place(x=340, y=400)\n",
    "gender_box.set('Male')"
   ]
  },
  {
   "cell_type": "code",
   "execution_count": 9,
   "id": "0e3e5016",
   "metadata": {},
   "outputs": [],
   "source": [
    "speed_box = Combobox(root,values=['Fast','Normal','Slow'], font = \"Robote 12\", state = \"readonly\", width=12)\n",
    "speed_box.place(x=540, y=400)\n",
    "speed_box.set('Normal')"
   ]
  },
  {
   "cell_type": "code",
   "execution_count": 10,
   "id": "c77498db",
   "metadata": {},
   "outputs": [],
   "source": [
    "Label(root, text=\"Select Voice\", font=\"TimesNewRoman 15 bold\", bg=\"#F7AC40\", fg=\"White\").place(x=340, y=370)\n",
    "Label(root, text=\"Select Speed\", font=\"TimesNewRoman 15 bold\", bg=\"#F7AC40\", fg=\"White\").place(x=540, y=370)"
   ]
  },
  {
   "cell_type": "code",
   "execution_count": null,
   "id": "b1d8eb91",
   "metadata": {},
   "source": [
    "image=PIL.Image.open(r\"C:/Users/KIIT/Downloads/playButton.jpg\")\n",
    "img=image.resize((70, 60))\n",
    "play_button=PIL.ImageTk.PhotoImage(img)\n",
    "play_btn = Button(root, text=\"Play\", compound= LEFT, image= play_button, bg=\"white\", width=130,font=\"arial 14 bold\", borderwidth='0.1c', command=speaknow)\n",
    "play_btn.place(x=435,y=450)\n",
    "root.mainloop()"
   ]
  }
 ],
 "metadata": {
  "kernelspec": {
   "display_name": "Python 3 (ipykernel)",
   "language": "python",
   "name": "python3"
  },
  "language_info": {
   "codemirror_mode": {
    "name": "ipython",
    "version": 3
   },
   "file_extension": ".py",
   "mimetype": "text/x-python",
   "name": "python",
   "nbconvert_exporter": "python",
   "pygments_lexer": "ipython3",
   "version": "3.9.7"
  }
 },
 "nbformat": 4,
 "nbformat_minor": 5
}
